{
 "cells": [
  {
   "cell_type": "markdown",
   "metadata": {},
   "source": [
    "**Submetric #1: Dogs in Pittsburgh**\n",
    "*Rachel Jan*\n",
    "\n",
    "For this submetric, we examine the dataset of 2024 dog liscenses registered in Allegheny County. \n",
    "\n",
    "Dog liscense registration can be a good indicator of how \"good\" a neighborhood is for several reasons. \n",
    "1. Dog ownership can foster a sense of community. A neighborhood with more responsible dog owners might be a friendlier community connected through their dogs. \n",
    "2. Higher dog liscense rates suggest that residents in the neighborhood are responsible pet owners who comply with local regulations. This can correlate with other responsible behaviors such as proper pet care, vaccination, leash laws compliance, and cleaning up after dogs - all of which can ensure the safety, cleanliness, and comfort of a neighborhood. \n",
    "3. A neighborhood with more liscensed dogs may be better equipped to provide a comfortable and supportive environment for owners and their pets, such as having nearby dog parks, pet-friendly businesses, or green space. \n",
    "\n",
    "With our chosen dataset, we can associate a certain liscense with a neighborhood by looking at the owner's zipcode. "
   ]
  }
 ],
 "metadata": {
  "kernelspec": {
   "display_name": "Python 3",
   "language": "python",
   "name": "python3"
  },
  "language_info": {
   "codemirror_mode": {
    "name": "ipython",
    "version": 3
   },
   "file_extension": ".py",
   "mimetype": "text/x-python",
   "name": "python",
   "nbconvert_exporter": "python",
   "pygments_lexer": "ipython3",
   "version": "3.8.3"
  }
 },
 "nbformat": 4,
 "nbformat_minor": 4
}
