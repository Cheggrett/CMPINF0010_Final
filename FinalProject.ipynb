{
 "cells": [
  {
   "cell_type": "markdown",
   "metadata": {},
   "source": [
    "# Introduction\n",
    "With this project we are setting out to determine the best neigborhood in Pittsburgh. To do this, we found various datasets that represented different areas citizen behavior. We used Pandas and Python to visualize this data and allow us to draw conclusions. We each chose our dataset separately and talked about how best to tie them together. \n",
    "\n",
    "# The Metric\n",
    "The overarching metric we are measuring is the personal responsilibilty of the citizens. To do this we are measuring # of Covid-19 Vaccinations, arrest reports and number of dog licenses. \n",
    "\n",
    "A high vaccination rate in a neighborhood indicates that residents are taking responsibility for their own health and the health of the community by getting vaccinated. A low number of arrests in a neighborhood indicates that residents are taking responsibility for safety within their community. A high number of dog licenses indicates that residents are repsonible pet owners in registering their dogs and following local pet laws.\n",
    "\n",
    "# Datasets Used\n",
    "2024 Allegheny County Dog Licenses\n",
    "\n",
    "Distribution of Bivalent Covid-19 Vaccine boosters by PGH neighborhood\n",
    "\n",
    "Arrests in Pittsburgh"
   ]
  },
  {
   "cell_type": "markdown",
   "metadata": {},
   "source": [
    "# The Best Neighborhood\n",
    "Apply the metric from the previous section to determine the best neighborhood in Pittsburgh. Beyond just executing code, provide a narrative about why you think this is the best neighborhood. Incorporate a data visualization, perhaps to rank all of the neighborhoods or show a neighborhood’s best-ness over time. The key is to make a data driven argument."
   ]
  },
  {
   "cell_type": "markdown",
   "metadata": {},
   "source": [
    "# Conclusion\n",
    "\n",
    "Reflect on how the data-driven determination of “best neighborhood” is the same or different from your personal favorite neighborhood. Each member of the group should write their own response to this."
   ]
  },
  {
   "cell_type": "code",
   "execution_count": null,
   "metadata": {},
   "outputs": [],
   "source": []
  }
 ],
 "metadata": {
  "kernelspec": {
   "display_name": "Python 3",
   "language": "python",
   "name": "python3"
  },
  "language_info": {
   "codemirror_mode": {
    "name": "ipython",
    "version": 3
   },
   "file_extension": ".py",
   "mimetype": "text/x-python",
   "name": "python",
   "nbconvert_exporter": "python",
   "pygments_lexer": "ipython3",
   "version": "3.8.3"
  }
 },
 "nbformat": 4,
 "nbformat_minor": 4
}
