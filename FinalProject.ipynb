{
 "cells": [
  {
   "cell_type": "markdown",
   "metadata": {},
   "source": [
    "It is best to think about your final project as a data-driven report. You will need to put everything into a Jupyter notebook with the following structure:\n",
    "\n",
    "**Introduction:** Introduce the project, and your approach, talk about the process of how you came up with the metric and some alternatives you may have explored.\n",
    "\n",
    "**The Metric:** Describe your metric, and what features are you measuring. What datasets are you using?\n",
    "\n",
    "**The Best Neighborhood:** Apply the metric from the previous section to determine the best neighborhood in Pittsburgh. Beyond just executing code, provide a narrative about why you think this is the best neighborhood. Incorporate a data visualization, perhaps to rank all of the neighborhoods or show a neighborhood’s best-ness over time. The key is to make a data driven argument.\n",
    "\n",
    "**Conclusion:** Reflect on how the data-driven determination of “best neighborhood” is the same or different from your personal favorite neighborhood. Each member of the group should write their own response to this."
   ]
  },
  {
   "cell_type": "markdown",
   "metadata": {},
   "source": [
    "# Introduction\n",
    "With this project we are setting out to determine the best neigborhood in Pittsburgh. To do this, we found various datasets that represented different areas citizen behavior. We used Pandas and Python to visualize this data and allow us to draw conclusions. We each chose our dataset separately and talked about how best to tie them together. \n",
    "\n",
    "# The Metric\n",
    "The overarching metric we are measuring is the personal responsilibilty of the citizens. To do this wer are measuring # of Covid-19 Vaccinations, arrest reports and number of dog licenses. "
   ]
  },
  {
   "cell_type": "code",
   "execution_count": null,
   "metadata": {},
   "outputs": [],
   "source": []
  },
  {
   "cell_type": "code",
   "execution_count": null,
   "metadata": {},
   "outputs": [],
   "source": []
  }
 ],
 "metadata": {
  "kernelspec": {
   "display_name": "Python 3",
   "language": "python",
   "name": "python3"
  },
  "language_info": {
   "codemirror_mode": {
    "name": "ipython",
    "version": 3
   },
   "file_extension": ".py",
   "mimetype": "text/x-python",
   "name": "python",
   "nbconvert_exporter": "python",
   "pygments_lexer": "ipython3",
   "version": "3.8.3"
  }
 },
 "nbformat": 4,
 "nbformat_minor": 4
}
